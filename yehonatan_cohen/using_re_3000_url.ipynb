{
  "nbformat": 4,
  "nbformat_minor": 0,
  "metadata": {
    "colab": {
      "provenance": [],
      "gpuType": "T4",
      "authorship_tag": "ABX9TyMysdlBgD4M738QdwgSM6OE",
      "include_colab_link": true
    },
    "kernelspec": {
      "name": "python3",
      "display_name": "Python 3"
    },
    "language_info": {
      "name": "python"
    },
    "accelerator": "GPU"
  },
  "cells": [
    {
      "cell_type": "markdown",
      "metadata": {
        "id": "view-in-github",
        "colab_type": "text"
      },
      "source": [
        "<a href=\"https://colab.research.google.com/github/ronenfeldman/Practicum23/blob/main/yehonatan_cohen/using_re_3000_url.ipynb\" target=\"_parent\"><img src=\"https://colab.research.google.com/assets/colab-badge.svg\" alt=\"Open In Colab\"/></a>"
      ]
    },
    {
      "cell_type": "code",
      "source": [
        "! pip install PyMuPDF"
      ],
      "metadata": {
        "colab": {
          "base_uri": "https://localhost:8080/"
        },
        "id": "3Ea8yMfiADTA",
        "outputId": "4b19608a-4702-4f5e-e54c-c34ae88cee37"
      },
      "execution_count": null,
      "outputs": [
        {
          "output_type": "stream",
          "name": "stdout",
          "text": [
            "Collecting PyMuPDF\n",
            "  Downloading PyMuPDF-1.22.5-cp310-cp310-manylinux_2_17_x86_64.manylinux2014_x86_64.whl (14.1 MB)\n",
            "\u001b[2K     \u001b[90m━━━━━━━━━━━━━━━━━━━━━━━━━━━━━━━━━━━━━━━━\u001b[0m \u001b[32m14.1/14.1 MB\u001b[0m \u001b[31m18.5 MB/s\u001b[0m eta \u001b[36m0:00:00\u001b[0m\n",
            "\u001b[?25hInstalling collected packages: PyMuPDF\n",
            "Successfully installed PyMuPDF-1.22.5\n"
          ]
        }
      ]
    },
    {
      "cell_type": "code",
      "source": [
        "import requests\n",
        "import os\n",
        "import fitz  # PyMuPDF\n",
        "import json\n",
        "import re\n",
        "\n",
        "# Function to download a PDF file from a URL\n",
        "def download_pdf(url, filename):\n",
        "    response = requests.get(url)\n",
        "    with open(filename, 'wb') as output_file:\n",
        "        output_file.write(response.content)\n",
        "\n",
        "# Function to extract text from a PDF file\n",
        "def extract_text_from_pdf(file_path):\n",
        "    doc = fitz.open(file_path)\n",
        "    text = ''\n",
        "    for page in doc:\n",
        "        text += page.get_text()  # changed from getText() to get_text()\n",
        "    return text\n",
        "\n",
        "# Function to split the text into paragraphs\n",
        "def chunk_into_paragraphs(text, min_words=10):\n",
        "    paragraphs = []\n",
        "    current_paragraph = []\n",
        "    for line in text.split('\\n'):\n",
        "        current_paragraph.append(line)\n",
        "        if len(' '.join(current_paragraph).split()) >= min_words:\n",
        "            paragraphs.append(' '.join(current_paragraph))\n",
        "            current_paragraph = []\n",
        "    return paragraphs\n",
        "\n",
        "# Function to classify the paragraphs\n",
        "def classify_paragraphs(paragraphs):\n",
        "    future_tense_verbs = [\"will\", \"is going to\", \"are going to\", \"aims to\", \"aim to\", \"plan to\", \"plans to\"]\n",
        "    past_tense_verbs = [\"did\", \"had\", \"was\", \"were\"]\n",
        "    suggestive_words = [\"suggests\", \"implies\", \"indicates\"]\n",
        "\n",
        "    classified_paragraphs = []\n",
        "\n",
        "    for paragraph in paragraphs:\n",
        "        category = \"Other\"\n",
        "\n",
        "        # Check for numbers or percentages\n",
        "        if re.search(r'\\d', paragraph):\n",
        "            # Check for absence of future-tense verbs\n",
        "            if not any(verb in paragraph for verb in future_tense_verbs):\n",
        "                category = \"Quantitative Evidence\"\n",
        "        elif any(verb in paragraph for verb in past_tense_verbs):\n",
        "            category = \"Action Evidence\"\n",
        "        elif any(word in paragraph for word in suggestive_words):\n",
        "            category = \"Suggestive Evidence\"\n",
        "        elif any(verb in paragraph for verb in future_tense_verbs):\n",
        "            category = \"Intention\"\n",
        "\n",
        "        classified_paragraphs.append({\"Paragraph\": paragraph, \"Category\": category})\n",
        "\n",
        "    return classified_paragraphs\n",
        "\n",
        "# Load the list of URLs from the file\n",
        "with open('PDF files.txt', 'r') as file:\n",
        "    urls = [line.strip() for line in file]\n",
        "\n",
        "# Limit the number of URLs to process\n",
        "max_urls = 3000\n",
        "urls = urls[:max_urls]\n",
        "\n",
        "# Initialize an empty list to hold all the results\n",
        "all_results = []\n",
        "\n",
        "# Process each URL\n",
        "for i, url in enumerate(urls):\n",
        "    # Extract the name of the PDF file from the URL\n",
        "    pdf_name = url.split('/')[-1]\n",
        "\n",
        "    # Download the PDF file\n",
        "    filename = f'pdf_file_{i}.pdf'\n",
        "    download_pdf(url, filename)\n",
        "\n",
        "    # Extract the text from the PDF file\n",
        "    text = extract_text_from_pdf(filename)\n",
        "\n",
        "    # Split the text into paragraphs\n",
        "    paragraphs = chunk_into_paragraphs(text)\n",
        "\n",
        "    # Classify the paragraphs\n",
        "    classified_paragraphs = classify_paragraphs(paragraphs)\n",
        "\n",
        "    # Add the results to the list of all results\n",
        "    all_results.append({\"PDF Name\": pdf_name, \"Classified Paragraphs\": classified_paragraphs})\n",
        "\n",
        "    # Delete the PDF file\n",
        "    os.remove(filename)\n",
        "\n",
        "# Save all the results to a single JSON file\n",
        "with open('all_classified_paragraphs.json', 'w') as json_file:\n",
        "    json.dump(all_results, json_file, indent=4)"
      ],
      "metadata": {
        "id": "X6ddHx7RDlmJ"
      },
      "execution_count": null,
      "outputs": []
    },
    {
      "cell_type": "code",
      "source": [
        "# Load the JSON data\n",
        "with open('/content/all_classified_paragraphs.json') as json_file:\n",
        "    data = json.load(json_file)\n",
        "\n",
        "# Print the first item to check the structure of the data\n",
        "# data[0]"
      ],
      "metadata": {
        "id": "Z2Al5xV-Eui1"
      },
      "execution_count": null,
      "outputs": []
    },
    {
      "cell_type": "code",
      "source": [
        "from collections import Counter\n",
        "import matplotlib.pyplot as plt\n",
        "\n",
        "# Count the number of PDF files\n",
        "num_pdfs = len(data)\n",
        "print(f\"Number of PDF files: {num_pdfs}\")\n",
        "\n",
        "# Initialize a counter for the categories\n",
        "category_counter = Counter()\n",
        "\n",
        "# Initialize a counter for the paragraphs\n",
        "num_paragraphs = 0\n",
        "\n",
        "# Process each PDF\n",
        "for pdf in data:\n",
        "    # Count the number of paragraphs\n",
        "    num_paragraphs += len(pdf[\"Classified Paragraphs\"])\n",
        "\n",
        "    # Count the categories\n",
        "    for paragraph in pdf[\"Classified Paragraphs\"]:\n",
        "        category_counter[paragraph[\"Category\"]] += 1\n",
        "\n",
        "print(f\"Total number of paragraphs: {num_paragraphs}\")\n",
        "print(f\"Number of paragraphs in each category: {category_counter}\")\n",
        "\n",
        "# Display the distribution of categories as a bar chart\n",
        "plt.figure(figsize=(10, 6))\n",
        "plt.bar(category_counter.keys(), category_counter.values())\n",
        "plt.xlabel('Category')\n",
        "plt.ylabel('Number of Paragraphs')\n",
        "plt.title('Distribution of Paragraph Categories')\n",
        "plt.show()"
      ],
      "metadata": {
        "colab": {
          "base_uri": "https://localhost:8080/",
          "height": 638
        },
        "id": "rjHfIyR7E0CA",
        "outputId": "4c43bd50-ce5f-4d14-e714-64ff8a8a38e5"
      },
      "execution_count": null,
      "outputs": [
        {
          "output_type": "stream",
          "name": "stdout",
          "text": [
            "Number of PDF files: 3000\n",
            "Total number of paragraphs: 3863199\n",
            "Number of paragraphs in each category: Counter({'Other': 2373446, 'Quantitative Evidence': 1307340, 'Action Evidence': 109071, 'Intention': 72545, 'Suggestive Evidence': 797})\n"
          ]
        },
        {
          "output_type": "display_data",
          "data": {
            "text/plain": [
              "<Figure size 1000x600 with 1 Axes>"
            ],
            "image/png": "[encoded data removed]"
          },
          "metadata": {}
        }
      ]
    }
  ]
}