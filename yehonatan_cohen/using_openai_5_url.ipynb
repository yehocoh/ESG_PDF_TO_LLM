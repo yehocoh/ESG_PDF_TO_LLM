{
  "nbformat": 4,
  "nbformat_minor": 0,
  "metadata": {
    "colab": {
      "provenance": [],
      "authorship_tag": "ABX9TyNZS/2wi4oo0/akRC1xrfDc",
      "include_colab_link": true
    },
    "kernelspec": {
      "name": "python3",
      "display_name": "Python 3"
    },
    "language_info": {
      "name": "python"
    }
  },
  "cells": [
    {
      "cell_type": "markdown",
      "metadata": {
        "id": "view-in-github",
        "colab_type": "text"
      },
      "source": [
        "<a href=\"https://colab.research.google.com/github/ronenfeldman/Practicum23/blob/main/yehonatan_cohen/using_openai_5_url.ipynb\" target=\"_parent\"><img src=\"https://colab.research.google.com/assets/colab-badge.svg\" alt=\"Open In Colab\"/></a>"
      ]
    },
    {
      "cell_type": "markdown",
      "source": [
        "# pip install"
      ],
      "metadata": {
        "id": "5AFpNXn1c_L8"
      }
    },
    {
      "cell_type": "code",
      "source": [
        "# !pip install langchain\n",
        "# !pip install openai\n",
        "!pip install --upgrade transformers\n",
        "!pip install --upgrade pillow\n",
        "!pip install sentence_transformers\n",
        "!pip install faiss-cpu\n",
        "!pip install --upgrade pymupdf\n",
        "!pip install PyPDF2\n",
        "!pip install pdfplumber"
      ],
      "metadata": {
        "id": "W11dgywIawMk"
      },
      "execution_count": null,
      "outputs": []
    },
    {
      "cell_type": "code",
      "source": [
        "import fitz\n",
        "import requests\n",
        "import io\n",
        "import pandas as pd\n",
        "import os\n",
        "import PyPDF2\n",
        "import pdfplumber"
      ],
      "metadata": {
        "id": "fpqb_M2MdEv2"
      },
      "execution_count": null,
      "outputs": []
    },
    {
      "cell_type": "code",
      "source": [
        "from google.colab import drive\n",
        "drive.mount('/content/gdrive/')"
      ],
      "metadata": {
        "colab": {
          "base_uri": "https://localhost:8080/"
        },
        "id": "dKDJ1cq8dFdy",
        "outputId": "d92cc7d1-1b6b-4d95-efa8-c1acda9f7555"
      },
      "execution_count": null,
      "outputs": [
        {
          "output_type": "stream",
          "name": "stdout",
          "text": [
            "Mounted at /content/gdrive/\n"
          ]
        }
      ]
    },
    {
      "cell_type": "code",
      "source": [
        "file_path = r'/content/gdrive/MyDrive/MBA/Data Science Practicum 23/final_project/PDF files.txt'\n",
        "file = open(file_path, 'r')\n",
        "\n",
        "# Read the contents of the file\n",
        "pdfs = file.read()\n",
        "\n",
        "lines_pdfs = pdfs.split('\\n')"
      ],
      "metadata": {
        "id": "knekwbsTdGsZ"
      },
      "execution_count": null,
      "outputs": []
    },
    {
      "cell_type": "code",
      "source": [
        "import aiohttp\n",
        "import asyncio\n",
        "import fitz\n",
        "import pandas as pd\n",
        "\n",
        "num_of_doc = 5\n",
        "concurrent_tasks = 10  # Limiting to 10 concurrent tasks\n",
        "\n",
        "async def worker(session, url, semaphore):\n",
        "    async with semaphore:\n",
        "        url = url.replace(\"\\r\", \"\")\n",
        "        async with session.get(url) as response:\n",
        "            file_data = await response.read()\n",
        "\n",
        "        try:\n",
        "            doc = fitz.open(stream=file_data, filetype='pdf')\n",
        "        except Exception as e:\n",
        "            print(f\"Failed to open PDF from {url}. Error: {e}\")\n",
        "            return None\n",
        "\n",
        "        text = \" \".join([page.get_text() for page in doc])\n",
        "        total_text_len = len(text)\n",
        "\n",
        "        return {\n",
        "            \"pdf_name\": url.split('/')[-1],\n",
        "            \"url\": url,\n",
        "            \"page_count\": doc.page_count,\n",
        "            \"text_len\": total_text_len,\n",
        "            \"table_of_content\": doc.get_toc(),\n",
        "            \"pdf_text\": text\n",
        "        }\n",
        "\n",
        "async def fetch_pdfs(urls):\n",
        "    async with aiohttp.ClientSession() as session:\n",
        "        semaphore = asyncio.Semaphore(concurrent_tasks)\n",
        "        tasks = [worker(session, url, semaphore) for url in urls[:num_of_doc]]\n",
        "        return await asyncio.gather(*tasks)\n",
        "\n",
        "%autoawait True\n",
        "\n",
        "# Assuming lines_pdfs is a list of URLs\n",
        "data = await fetch_pdfs(lines_pdfs)\n",
        "df = pd.DataFrame([d for d in data if d is not None])  # Filtering out None values"
      ],
      "metadata": {
        "id": "ryfMzhkOdIBv"
      },
      "execution_count": null,
      "outputs": []
    },
    {
      "cell_type": "code",
      "source": [
        "df.sample(5)"
      ],
      "metadata": {
        "colab": {
          "base_uri": "https://localhost:8080/",
          "height": 337
        },
        "id": "yoNG3aTQdNdh",
        "outputId": "b41bce04-b832-409c-933f-989c3f879002"
      },
      "execution_count": null,
      "outputs": [
        {
          "output_type": "execute_result",
          "data": {
            "text/plain": [
              "                                        pdf_name  \\\n",
              "2                           NASDAQ_TWOU_2018.pdf   \n",
              "3                         2019-2U-ESG-Report.pdf   \n",
              "4                           NASDAQ_TWOU_2020.pdf   \n",
              "0       Corporate-Governance-Report-Q2FY2013.pdf   \n",
              "1  Business-Responsibility-Report-FY-2017-18.pdf   \n",
              "\n",
              "                                                 url  page_count  text_len  \\\n",
              "2  https://sust-reports-prod-v1.s3.us-east-2.amaz...           5     10889   \n",
              "3  https://sust-reports-prod-v1.s3.us-east-2.amaz...          10     19379   \n",
              "4  https://sust-reports-prod-v1.s3.us-east-2.amaz...          38     42271   \n",
              "0  https://sust-reports-prod-v1.s3.us-east-2.amaz...           1      1549   \n",
              "1  https://sust-reports-prod-v1.s3.us-east-2.amaz...           6     23727   \n",
              "\n",
              "  table_of_content                                           pdf_text  \n",
              "2               []   \\n \\n \\n \\n \\n2U, Inc. is a diverse collectio...  \n",
              "3               []   \\n  \\nEdtech with a human touch.  \\n2U, INC. ...  \n",
              "4               []  2020 ESG Report\\nCulture, Equity, Education, H...  \n",
              "0               []   \\n \\n \\n \\nQUARTERLY COMPLIANCE REPORT ON COR...  \n",
              "1               []  47\\nAnnual Report 2017-18\\nBusiness Responsibi...  "
            ],
            "text/html": [
              "\n",
              "\n",
              "  <div id=\"df-452b563b-1dfd-43f9-bf9e-093ebf147853\">\n",
              "    <div class=\"colab-df-container\">\n",
              "      <div>\n",
              "<style scoped>\n",
              "    .dataframe tbody tr th:only-of-type {\n",
              "        vertical-align: middle;\n",
              "    }\n",
              "\n",
              "    .dataframe tbody tr th {\n",
              "        vertical-align: top;\n",
              "    }\n",
              "\n",
              "    .dataframe thead th {\n",
              "        text-align: right;\n",
              "    }\n",
              "</style>\n",
              "<table border=\"1\" class=\"dataframe\">\n",
              "  <thead>\n",
              "    <tr style=\"text-align: right;\">\n",
              "      <th></th>\n",
              "      <th>pdf_name</th>\n",
              "      <th>url</th>\n",
              "      <th>page_count</th>\n",
              "      <th>text_len</th>\n",
              "      <th>table_of_content</th>\n",
              "      <th>pdf_text</th>\n",
              "    </tr>\n",
              "  </thead>\n",
              "  <tbody>\n",
              "    <tr>\n",
              "      <th>2</th>\n",
              "      <td>NASDAQ_TWOU_2018.pdf</td>\n",
              "      <td>https://sust-reports-prod-v1.s3.us-east-2.amaz...</td>\n",
              "      <td>5</td>\n",
              "      <td>10889</td>\n",
              "      <td>[]</td>\n",
              "      <td>\\n \\n \\n \\n \\n2U, Inc. is a diverse collectio...</td>\n",
              "    </tr>\n",
              "    <tr>\n",
              "      <th>3</th>\n",
              "      <td>2019-2U-ESG-Report.pdf</td>\n",
              "      <td>https://sust-reports-prod-v1.s3.us-east-2.amaz...</td>\n",
              "      <td>10</td>\n",
              "      <td>19379</td>\n",
              "      <td>[]</td>\n",
              "      <td>\\n  \\nEdtech with a human touch.  \\n2U, INC. ...</td>\n",
              "    </tr>\n",
              "    <tr>\n",
              "      <th>4</th>\n",
              "      <td>NASDAQ_TWOU_2020.pdf</td>\n",
              "      <td>https://sust-reports-prod-v1.s3.us-east-2.amaz...</td>\n",
              "      <td>38</td>\n",
              "      <td>42271</td>\n",
              "      <td>[]</td>\n",
              "      <td>2020 ESG Report\\nCulture, Equity, Education, H...</td>\n",
              "    </tr>\n",
              "    <tr>\n",
              "      <th>0</th>\n",
              "      <td>Corporate-Governance-Report-Q2FY2013.pdf</td>\n",
              "      <td>https://sust-reports-prod-v1.s3.us-east-2.amaz...</td>\n",
              "      <td>1</td>\n",
              "      <td>1549</td>\n",
              "      <td>[]</td>\n",
              "      <td>\\n \\n \\n \\nQUARTERLY COMPLIANCE REPORT ON COR...</td>\n",
              "    </tr>\n",
              "    <tr>\n",
              "      <th>1</th>\n",
              "      <td>Business-Responsibility-Report-FY-2017-18.pdf</td>\n",
              "      <td>https://sust-reports-prod-v1.s3.us-east-2.amaz...</td>\n",
              "      <td>6</td>\n",
              "      <td>23727</td>\n",
              "      <td>[]</td>\n",
              "      <td>47\\nAnnual Report 2017-18\\nBusiness Responsibi...</td>\n",
              "    </tr>\n",
              "  </tbody>\n",
              "</table>\n",
              "</div>\n",
              "      <button class=\"colab-df-convert\" onclick=\"convertToInteractive('df-452b563b-1dfd-43f9-bf9e-093ebf147853')\"\n",
              "              title=\"Convert this dataframe to an interactive table.\"\n",
              "              style=\"display:none;\">\n",
              "\n",
              "  <svg xmlns=\"http://www.w3.org/2000/svg\" height=\"24px\"viewBox=\"0 0 24 24\"\n",
              "       width=\"24px\">\n",
              "    <path d=\"M0 0h24v24H0V0z\" fill=\"none\"/>\n",
              "    <path d=\"M18.56 5.44l.94 2.06.94-2.06 2.06-.94-2.06-.94-.94-2.06-.94 2.06-2.06.94zm-11 1L8.5 8.5l.94-2.06 2.06-.94-2.06-.94L8.5 2.5l-.94 2.06-2.06.94zm10 10l.94 2.06.94-2.06 2.06-.94-2.06-.94-.94-2.06-.94 2.06-2.06.94z\"/><path d=\"M17.41 7.96l-1.37-1.37c-.4-.4-.92-.59-1.43-.59-.52 0-1.04.2-1.43.59L10.3 9.45l-7.72 7.72c-.78.78-.78 2.05 0 2.83L4 21.41c.39.39.9.59 1.41.59.51 0 1.02-.2 1.41-.59l7.78-7.78 2.81-2.81c.8-.78.8-2.07 0-2.86zM5.41 20L4 18.59l7.72-7.72 1.47 1.35L5.41 20z\"/>\n",
              "  </svg>\n",
              "      </button>\n",
              "\n",
              "\n",
              "\n",
              "    <div id=\"df-3121b80b-067e-4348-89ac-8f38ab394d16\">\n",
              "      <button class=\"colab-df-quickchart\" onclick=\"quickchart('df-3121b80b-067e-4348-89ac-8f38ab394d16')\"\n",
              "              title=\"Suggest charts.\"\n",
              "              style=\"display:none;\">\n",
              "\n",
              "<svg xmlns=\"http://www.w3.org/2000/svg\" height=\"24px\"viewBox=\"0 0 24 24\"\n",
              "     width=\"24px\">\n",
              "    <g>\n",
              "        <path d=\"M19 3H5c-1.1 0-2 .9-2 2v14c0 1.1.9 2 2 2h14c1.1 0 2-.9 2-2V5c0-1.1-.9-2-2-2zM9 17H7v-7h2v7zm4 0h-2V7h2v10zm4 0h-2v-4h2v4z\"/>\n",
              "    </g>\n",
              "</svg>\n",
              "      </button>\n",
              "    </div>\n",
              "\n",
              "<style>\n",
              "  .colab-df-quickchart {\n",
              "    background-color: #E8F0FE;\n",
              "    border: none;\n",
              "    border-radius: 50%;\n",
              "    cursor: pointer;\n",
              "    display: none;\n",
              "    fill: #1967D2;\n",
              "    height: 32px;\n",
              "    padding: 0 0 0 0;\n",
              "    width: 32px;\n",
              "  }\n",
              "\n",
              "  .colab-df-quickchart:hover {\n",
              "    background-color: #E2EBFA;\n",
              "    box-shadow: 0px 1px 2px rgba(60, 64, 67, 0.3), 0px 1px 3px 1px rgba(60, 64, 67, 0.15);\n",
              "    fill: #174EA6;\n",
              "  }\n",
              "\n",
              "  [theme=dark] .colab-df-quickchart {\n",
              "    background-color: #3B4455;\n",
              "    fill: #D2E3FC;\n",
              "  }\n",
              "\n",
              "  [theme=dark] .colab-df-quickchart:hover {\n",
              "    background-color: #434B5C;\n",
              "    box-shadow: 0px 1px 3px 1px rgba(0, 0, 0, 0.15);\n",
              "    filter: drop-shadow(0px 1px 2px rgba(0, 0, 0, 0.3));\n",
              "    fill: #FFFFFF;\n",
              "  }\n",
              "</style>\n",
              "\n",
              "    <script>\n",
              "      async function quickchart(key) {\n",
              "        const containerElement = document.querySelector('#' + key);\n",
              "        const charts = await google.colab.kernel.invokeFunction(\n",
              "            'suggestCharts', [key], {});\n",
              "      }\n",
              "    </script>\n",
              "\n",
              "      <script>\n",
              "\n",
              "function displayQuickchartButton(domScope) {\n",
              "  let quickchartButtonEl =\n",
              "    domScope.querySelector('#df-3121b80b-067e-4348-89ac-8f38ab394d16 button.colab-df-quickchart');\n",
              "  quickchartButtonEl.style.display =\n",
              "    google.colab.kernel.accessAllowed ? 'block' : 'none';\n",
              "}\n",
              "\n",
              "        displayQuickchartButton(document);\n",
              "      </script>\n",
              "      <style>\n",
              "    .colab-df-container {\n",
              "      display:flex;\n",
              "      flex-wrap:wrap;\n",
              "      gap: 12px;\n",
              "    }\n",
              "\n",
              "    .colab-df-convert {\n",
              "      background-color: #E8F0FE;\n",
              "      border: none;\n",
              "      border-radius: 50%;\n",
              "      cursor: pointer;\n",
              "      display: none;\n",
              "      fill: #1967D2;\n",
              "      height: 32px;\n",
              "      padding: 0 0 0 0;\n",
              "      width: 32px;\n",
              "    }\n",
              "\n",
              "    .colab-df-convert:hover {\n",
              "      background-color: #E2EBFA;\n",
              "      box-shadow: 0px 1px 2px rgba(60, 64, 67, 0.3), 0px 1px 3px 1px rgba(60, 64, 67, 0.15);\n",
              "      fill: #174EA6;\n",
              "    }\n",
              "\n",
              "    [theme=dark] .colab-df-convert {\n",
              "      background-color: #3B4455;\n",
              "      fill: #D2E3FC;\n",
              "    }\n",
              "\n",
              "    [theme=dark] .colab-df-convert:hover {\n",
              "      background-color: #434B5C;\n",
              "      box-shadow: 0px 1px 3px 1px rgba(0, 0, 0, 0.15);\n",
              "      filter: drop-shadow(0px 1px 2px rgba(0, 0, 0, 0.3));\n",
              "      fill: #FFFFFF;\n",
              "    }\n",
              "  </style>\n",
              "\n",
              "      <script>\n",
              "        const buttonEl =\n",
              "          document.querySelector('#df-452b563b-1dfd-43f9-bf9e-093ebf147853 button.colab-df-convert');\n",
              "        buttonEl.style.display =\n",
              "          google.colab.kernel.accessAllowed ? 'block' : 'none';\n",
              "\n",
              "        async function convertToInteractive(key) {\n",
              "          const element = document.querySelector('#df-452b563b-1dfd-43f9-bf9e-093ebf147853');\n",
              "          const dataTable =\n",
              "            await google.colab.kernel.invokeFunction('convertToInteractive',\n",
              "                                                     [key], {});\n",
              "          if (!dataTable) return;\n",
              "\n",
              "          const docLinkHtml = 'Like what you see? Visit the ' +\n",
              "            '<a target=\"_blank\" href=https://colab.research.google.com/notebooks/data_table.ipynb>data table notebook</a>'\n",
              "            + ' to learn more about interactive tables.';\n",
              "          element.innerHTML = '';\n",
              "          dataTable['output_type'] = 'display_data';\n",
              "          await google.colab.output.renderOutput(dataTable, element);\n",
              "          const docLink = document.createElement('div');\n",
              "          docLink.innerHTML = docLinkHtml;\n",
              "          element.appendChild(docLink);\n",
              "        }\n",
              "      </script>\n",
              "    </div>\n",
              "  </div>\n"
            ]
          },
          "metadata": {},
          "execution_count": 29
        }
      ]
    },
    {
      "cell_type": "code",
      "execution_count": null,
      "metadata": {
        "id": "BAoqRaHIaq5_"
      },
      "outputs": [],
      "source": [
        "from langchain.chat_models import ChatOpenAI\n",
        "from langchain.prompts import ChatPromptTemplate\n",
        "from langchain.chains import LLMChain\n",
        "import os\n",
        "import openai"
      ]
    },
    {
      "cell_type": "code",
      "source": [
        "OPENAI_API_KEY = \"-----\""
      ],
      "metadata": {
        "id": "4P1rx3kfbHm2"
      },
      "execution_count": null,
      "outputs": []
    },
    {
      "cell_type": "code",
      "source": [
        "llm = ChatOpenAI(temperature=0.9, openai_api_key=OPENAI_API_KEY)"
      ],
      "metadata": {
        "id": "DHIRX4Ewa9Lb"
      },
      "execution_count": null,
      "outputs": []
    },
    {
      "cell_type": "code",
      "source": [
        "prompt = ChatPromptTemplate.from_template(\n",
        "   \"\"\"For the follow sentence please classify it into ONLY one of the following 5 categories based on its ESG related content. Give only the category name.\n",
        "\n",
        "                                            -'Quantitative Evidence': The sentence contains quantitative evidence that the company already has been taking actions to improve its ESG measures and already implemented the plans. Future plans do NOT count!\n",
        "                                            -'Action Evidence': The sentence contains hard evidence that is not quantitative that the company already has been taking actions to improve its ESG measures and already implemented the plans. Future plans do NOT count! .\n",
        "                                            -'Suggestive Evidence': The sentence doesn't contain hard evidence of taking actions to improve the company's ESG measures, but it suggests that such actions have been taken already and have been implemented. Future plans do NOT count!\n",
        "                                            -'Intention': The sentence mentions a company's plans, intentions or commitments of taking actions in the future, without evidence of any actual actions yet. It include just future plans of the company to take actions related to ESG.\n",
        "                                            -'Other': The sentence does not match any category.\n",
        "\n",
        "                                            sentence : {txt}\"\"\"\n",
        ")"
      ],
      "metadata": {
        "id": "rKmx3ty7a1Du"
      },
      "execution_count": null,
      "outputs": []
    },
    {
      "cell_type": "code",
      "source": [
        "chain = LLMChain(llm=llm, prompt=prompt)"
      ],
      "metadata": {
        "id": "hFxHvz3ncTiY"
      },
      "execution_count": null,
      "outputs": []
    },
    {
      "cell_type": "markdown",
      "source": [
        "sample"
      ],
      "metadata": {
        "id": "SYz0kfhGiBEX"
      }
    },
    {
      "cell_type": "code",
      "source": [
        "txt = \"Our PCI target for 2028 is 71 g CO2e/MJ, a > 5% decrease from 2016.\"\n",
        "chain.run(txt)"
      ],
      "metadata": {
        "colab": {
          "base_uri": "https://localhost:8080/",
          "height": 36
        },
        "id": "2g4qZxMTexcd",
        "outputId": "32c57072-1fd0-4dce-a38d-0647b2431fd4"
      },
      "execution_count": null,
      "outputs": [
        {
          "output_type": "execute_result",
          "data": {
            "text/plain": [
              "'Quantitative Evidence'"
            ],
            "application/vnd.google.colaboratory.intrinsic+json": {
              "type": "string"
            }
          },
          "metadata": {},
          "execution_count": 34
        }
      ]
    },
    {
      "cell_type": "code",
      "source": [
        "txt = \"The collaboration could lead to capturing and storing up to 50 million metric tons of CO2 per year by 2030 and about 100 million metric tons by 2040\"\n",
        "chain.run(txt)"
      ],
      "metadata": {
        "colab": {
          "base_uri": "https://localhost:8080/",
          "height": 36
        },
        "id": "pmmgkzILftA5",
        "outputId": "afb1f934-379e-4bed-c76f-c180ea6cf9a8"
      },
      "execution_count": null,
      "outputs": [
        {
          "output_type": "execute_result",
          "data": {
            "text/plain": [
              "'Quantitative Evidence'"
            ],
            "application/vnd.google.colaboratory.intrinsic+json": {
              "type": "string"
            }
          },
          "metadata": {},
          "execution_count": 35
        }
      ]
    },
    {
      "cell_type": "code",
      "source": [
        "txt = \"The organizations are considering using CCS technology at facilities that generate electricity and manufacture everyday products such as plastics, motor fuels and packaging.\"\n",
        "chain.run(txt)"
      ],
      "metadata": {
        "colab": {
          "base_uri": "https://localhost:8080/",
          "height": 36
        },
        "id": "c1Se8flPfInQ",
        "outputId": "bbb529b8-166d-4c1c-e6ab-703af2bd607c"
      },
      "execution_count": null,
      "outputs": [
        {
          "output_type": "execute_result",
          "data": {
            "text/plain": [
              "'Intention'"
            ],
            "application/vnd.google.colaboratory.intrinsic+json": {
              "type": "string"
            }
          },
          "metadata": {},
          "execution_count": 36
        }
      ]
    },
    {
      "cell_type": "code",
      "source": [
        "def chunk_text(text, chunk_size):\n",
        "    # Split the text by paragraph and chunk it\n",
        "    chunks = text.split('\\n')\n",
        "    return [chunks[i:i + chunk_size] for i in range(0, len(chunks), chunk_size)]"
      ],
      "metadata": {
        "id": "anksL-Z3hf_A"
      },
      "execution_count": null,
      "outputs": []
    },
    {
      "cell_type": "code",
      "source": [
        "def class_row_in_text(num_doc, chunk_size= 10) :\n",
        "\n",
        "      chunked_docs = chunk_text(df[\"pdf_text\"][num_doc], chunk_size)\n",
        "      chunked_docs_combined = ['\\n'.join(chunked_docs) for chunked_docs in chunked_docs]\n",
        "\n",
        "      responses =[]\n",
        "      for row in chunked_docs_combined :\n",
        "        response = chain.run(row)\n",
        "        responses.append([num_doc, response, row])\n",
        "\n",
        "      return responses"
      ],
      "metadata": {
        "id": "BvO9t5vzfIvN"
      },
      "execution_count": null,
      "outputs": []
    },
    {
      "cell_type": "code",
      "source": [
        "all_responses = []\n",
        "for i in df.index :\n",
        "    responses = class_row_in_text(i)\n",
        "    all_responses = all_responses + responses"
      ],
      "metadata": {
        "id": "7xacTyE6haEr"
      },
      "execution_count": null,
      "outputs": []
    },
    {
      "cell_type": "code",
      "source": [
        "# Convert the list of lists to a DataFrame\n",
        "all_responses_df = pd.DataFrame(all_responses, columns=['num_doc', 'response', 'row'])\n",
        "\n",
        "all_responses_df"
      ],
      "metadata": {
        "colab": {
          "base_uri": "https://localhost:8080/",
          "height": 423
        },
        "id": "-qkuGq3biGbS",
        "outputId": "4b0c8c1a-baa5-4852-aa3f-d1aab9709c9d"
      },
      "execution_count": null,
      "outputs": [
        {
          "output_type": "execute_result",
          "data": {
            "text/plain": [
              "     num_doc               response  \\\n",
              "0          0                  Other   \n",
              "1          0                  Other   \n",
              "2          0                  Other   \n",
              "3          0  Quantitative Evidence   \n",
              "4          0                  Other   \n",
              "..       ...                    ...   \n",
              "305        4        Action Evidence   \n",
              "306        4                  Other   \n",
              "307        4              Intention   \n",
              "308        4                  Other   \n",
              "309        4                  Other   \n",
              "\n",
              "                                                   row  \n",
              "0     \\n \\n \\n \\nQUARTERLY COMPLIANCE REPORT ON COR...  \n",
              "1    Clause of \\nListing \\nAgreement \\nCompliance \\...  \n",
              "2    4 \\nI. Board of Directors \\n49 (I) \\n \\n \\n(A)...  \n",
              "3    Directors’ \\ncompensation & disclosures  \\n49 ...  \n",
              "4    (D) Code of Conduct \\n49 (ID) \\nYes \\n \\nII. A...  \n",
              "..                                                 ...  \n",
              "305  2U’s Chief Privacy Oﬃcer leads our data privac...  \n",
              "306  and focuses on transparency, data collection a...  \n",
              "307  the Private Securities Litigation Reform Act o...  \n",
              "308  diﬀer materially from those contained in any f...  \n",
              "309  Methodology and Forward-Looking Statements\\n37...  \n",
              "\n",
              "[310 rows x 3 columns]"
            ],
            "text/html": [
              "\n",
              "\n",
              "  <div id=\"df-2044705c-6aec-40bd-b9b0-d45e218ea4bb\">\n",
              "    <div class=\"colab-df-container\">\n",
              "      <div>\n",
              "<style scoped>\n",
              "    .dataframe tbody tr th:only-of-type {\n",
              "        vertical-align: middle;\n",
              "    }\n",
              "\n",
              "    .dataframe tbody tr th {\n",
              "        vertical-align: top;\n",
              "    }\n",
              "\n",
              "    .dataframe thead th {\n",
              "        text-align: right;\n",
              "    }\n",
              "</style>\n",
              "<table border=\"1\" class=\"dataframe\">\n",
              "  <thead>\n",
              "    <tr style=\"text-align: right;\">\n",
              "      <th></th>\n",
              "      <th>num_doc</th>\n",
              "      <th>response</th>\n",
              "      <th>row</th>\n",
              "    </tr>\n",
              "  </thead>\n",
              "  <tbody>\n",
              "    <tr>\n",
              "      <th>0</th>\n",
              "      <td>0</td>\n",
              "      <td>Other</td>\n",
              "      <td>\\n \\n \\n \\nQUARTERLY COMPLIANCE REPORT ON COR...</td>\n",
              "    </tr>\n",
              "    <tr>\n",
              "      <th>1</th>\n",
              "      <td>0</td>\n",
              "      <td>Other</td>\n",
              "      <td>Clause of \\nListing \\nAgreement \\nCompliance \\...</td>\n",
              "    </tr>\n",
              "    <tr>\n",
              "      <th>2</th>\n",
              "      <td>0</td>\n",
              "      <td>Other</td>\n",
              "      <td>4 \\nI. Board of Directors \\n49 (I) \\n \\n \\n(A)...</td>\n",
              "    </tr>\n",
              "    <tr>\n",
              "      <th>3</th>\n",
              "      <td>0</td>\n",
              "      <td>Quantitative Evidence</td>\n",
              "      <td>Directors’ \\ncompensation &amp; disclosures  \\n49 ...</td>\n",
              "    </tr>\n",
              "    <tr>\n",
              "      <th>4</th>\n",
              "      <td>0</td>\n",
              "      <td>Other</td>\n",
              "      <td>(D) Code of Conduct \\n49 (ID) \\nYes \\n \\nII. A...</td>\n",
              "    </tr>\n",
              "    <tr>\n",
              "      <th>...</th>\n",
              "      <td>...</td>\n",
              "      <td>...</td>\n",
              "      <td>...</td>\n",
              "    </tr>\n",
              "    <tr>\n",
              "      <th>305</th>\n",
              "      <td>4</td>\n",
              "      <td>Action Evidence</td>\n",
              "      <td>2U’s Chief Privacy Oﬃcer leads our data privac...</td>\n",
              "    </tr>\n",
              "    <tr>\n",
              "      <th>306</th>\n",
              "      <td>4</td>\n",
              "      <td>Other</td>\n",
              "      <td>and focuses on transparency, data collection a...</td>\n",
              "    </tr>\n",
              "    <tr>\n",
              "      <th>307</th>\n",
              "      <td>4</td>\n",
              "      <td>Intention</td>\n",
              "      <td>the Private Securities Litigation Reform Act o...</td>\n",
              "    </tr>\n",
              "    <tr>\n",
              "      <th>308</th>\n",
              "      <td>4</td>\n",
              "      <td>Other</td>\n",
              "      <td>diﬀer materially from those contained in any f...</td>\n",
              "    </tr>\n",
              "    <tr>\n",
              "      <th>309</th>\n",
              "      <td>4</td>\n",
              "      <td>Other</td>\n",
              "      <td>Methodology and Forward-Looking Statements\\n37...</td>\n",
              "    </tr>\n",
              "  </tbody>\n",
              "</table>\n",
              "<p>310 rows × 3 columns</p>\n",
              "</div>\n",
              "      <button class=\"colab-df-convert\" onclick=\"convertToInteractive('df-2044705c-6aec-40bd-b9b0-d45e218ea4bb')\"\n",
              "              title=\"Convert this dataframe to an interactive table.\"\n",
              "              style=\"display:none;\">\n",
              "\n",
              "  <svg xmlns=\"http://www.w3.org/2000/svg\" height=\"24px\"viewBox=\"0 0 24 24\"\n",
              "       width=\"24px\">\n",
              "    <path d=\"M0 0h24v24H0V0z\" fill=\"none\"/>\n",
              "    <path d=\"M18.56 5.44l.94 2.06.94-2.06 2.06-.94-2.06-.94-.94-2.06-.94 2.06-2.06.94zm-11 1L8.5 8.5l.94-2.06 2.06-.94-2.06-.94L8.5 2.5l-.94 2.06-2.06.94zm10 10l.94 2.06.94-2.06 2.06-.94-2.06-.94-.94-2.06-.94 2.06-2.06.94z\"/><path d=\"M17.41 7.96l-1.37-1.37c-.4-.4-.92-.59-1.43-.59-.52 0-1.04.2-1.43.59L10.3 9.45l-7.72 7.72c-.78.78-.78 2.05 0 2.83L4 21.41c.39.39.9.59 1.41.59.51 0 1.02-.2 1.41-.59l7.78-7.78 2.81-2.81c.8-.78.8-2.07 0-2.86zM5.41 20L4 18.59l7.72-7.72 1.47 1.35L5.41 20z\"/>\n",
              "  </svg>\n",
              "      </button>\n",
              "\n",
              "\n",
              "\n",
              "    <div id=\"df-fb0f3cf7-ac59-4b8f-bb4b-9232783a3fb4\">\n",
              "      <button class=\"colab-df-quickchart\" onclick=\"quickchart('df-fb0f3cf7-ac59-4b8f-bb4b-9232783a3fb4')\"\n",
              "              title=\"Suggest charts.\"\n",
              "              style=\"display:none;\">\n",
              "\n",
              "<svg xmlns=\"http://www.w3.org/2000/svg\" height=\"24px\"viewBox=\"0 0 24 24\"\n",
              "     width=\"24px\">\n",
              "    <g>\n",
              "        <path d=\"M19 3H5c-1.1 0-2 .9-2 2v14c0 1.1.9 2 2 2h14c1.1 0 2-.9 2-2V5c0-1.1-.9-2-2-2zM9 17H7v-7h2v7zm4 0h-2V7h2v10zm4 0h-2v-4h2v4z\"/>\n",
              "    </g>\n",
              "</svg>\n",
              "      </button>\n",
              "    </div>\n",
              "\n",
              "<style>\n",
              "  .colab-df-quickchart {\n",
              "    background-color: #E8F0FE;\n",
              "    border: none;\n",
              "    border-radius: 50%;\n",
              "    cursor: pointer;\n",
              "    display: none;\n",
              "    fill: #1967D2;\n",
              "    height: 32px;\n",
              "    padding: 0 0 0 0;\n",
              "    width: 32px;\n",
              "  }\n",
              "\n",
              "  .colab-df-quickchart:hover {\n",
              "    background-color: #E2EBFA;\n",
              "    box-shadow: 0px 1px 2px rgba(60, 64, 67, 0.3), 0px 1px 3px 1px rgba(60, 64, 67, 0.15);\n",
              "    fill: #174EA6;\n",
              "  }\n",
              "\n",
              "  [theme=dark] .colab-df-quickchart {\n",
              "    background-color: #3B4455;\n",
              "    fill: #D2E3FC;\n",
              "  }\n",
              "\n",
              "  [theme=dark] .colab-df-quickchart:hover {\n",
              "    background-color: #434B5C;\n",
              "    box-shadow: 0px 1px 3px 1px rgba(0, 0, 0, 0.15);\n",
              "    filter: drop-shadow(0px 1px 2px rgba(0, 0, 0, 0.3));\n",
              "    fill: #FFFFFF;\n",
              "  }\n",
              "</style>\n",
              "\n",
              "    <script>\n",
              "      async function quickchart(key) {\n",
              "        const containerElement = document.querySelector('#' + key);\n",
              "        const charts = await google.colab.kernel.invokeFunction(\n",
              "            'suggestCharts', [key], {});\n",
              "      }\n",
              "    </script>\n",
              "\n",
              "      <script>\n",
              "\n",
              "function displayQuickchartButton(domScope) {\n",
              "  let quickchartButtonEl =\n",
              "    domScope.querySelector('#df-fb0f3cf7-ac59-4b8f-bb4b-9232783a3fb4 button.colab-df-quickchart');\n",
              "  quickchartButtonEl.style.display =\n",
              "    google.colab.kernel.accessAllowed ? 'block' : 'none';\n",
              "}\n",
              "\n",
              "        displayQuickchartButton(document);\n",
              "      </script>\n",
              "      <style>\n",
              "    .colab-df-container {\n",
              "      display:flex;\n",
              "      flex-wrap:wrap;\n",
              "      gap: 12px;\n",
              "    }\n",
              "\n",
              "    .colab-df-convert {\n",
              "      background-color: #E8F0FE;\n",
              "      border: none;\n",
              "      border-radius: 50%;\n",
              "      cursor: pointer;\n",
              "      display: none;\n",
              "      fill: #1967D2;\n",
              "      height: 32px;\n",
              "      padding: 0 0 0 0;\n",
              "      width: 32px;\n",
              "    }\n",
              "\n",
              "    .colab-df-convert:hover {\n",
              "      background-color: #E2EBFA;\n",
              "      box-shadow: 0px 1px 2px rgba(60, 64, 67, 0.3), 0px 1px 3px 1px rgba(60, 64, 67, 0.15);\n",
              "      fill: #174EA6;\n",
              "    }\n",
              "\n",
              "    [theme=dark] .colab-df-convert {\n",
              "      background-color: #3B4455;\n",
              "      fill: #D2E3FC;\n",
              "    }\n",
              "\n",
              "    [theme=dark] .colab-df-convert:hover {\n",
              "      background-color: #434B5C;\n",
              "      box-shadow: 0px 1px 3px 1px rgba(0, 0, 0, 0.15);\n",
              "      filter: drop-shadow(0px 1px 2px rgba(0, 0, 0, 0.3));\n",
              "      fill: #FFFFFF;\n",
              "    }\n",
              "  </style>\n",
              "\n",
              "      <script>\n",
              "        const buttonEl =\n",
              "          document.querySelector('#df-2044705c-6aec-40bd-b9b0-d45e218ea4bb button.colab-df-convert');\n",
              "        buttonEl.style.display =\n",
              "          google.colab.kernel.accessAllowed ? 'block' : 'none';\n",
              "\n",
              "        async function convertToInteractive(key) {\n",
              "          const element = document.querySelector('#df-2044705c-6aec-40bd-b9b0-d45e218ea4bb');\n",
              "          const dataTable =\n",
              "            await google.colab.kernel.invokeFunction('convertToInteractive',\n",
              "                                                     [key], {});\n",
              "          if (!dataTable) return;\n",
              "\n",
              "          const docLinkHtml = 'Like what you see? Visit the ' +\n",
              "            '<a target=\"_blank\" href=https://colab.research.google.com/notebooks/data_table.ipynb>data table notebook</a>'\n",
              "            + ' to learn more about interactive tables.';\n",
              "          element.innerHTML = '';\n",
              "          dataTable['output_type'] = 'display_data';\n",
              "          await google.colab.output.renderOutput(dataTable, element);\n",
              "          const docLink = document.createElement('div');\n",
              "          docLink.innerHTML = docLinkHtml;\n",
              "          element.appendChild(docLink);\n",
              "        }\n",
              "      </script>\n",
              "    </div>\n",
              "  </div>\n"
            ]
          },
          "metadata": {},
          "execution_count": 41
        }
      ]
    },
    {
      "cell_type": "code",
      "source": [
        "all_responses_df[\"response\"].value_counts()"
      ],
      "metadata": {
        "colab": {
          "base_uri": "https://localhost:8080/"
        },
        "id": "DGquZvPXiKtn",
        "outputId": "0770802f-e06b-49b8-d3f0-90d96ccf4ebc"
      },
      "execution_count": null,
      "outputs": [
        {
          "output_type": "execute_result",
          "data": {
            "text/plain": [
              "Other                                                                                                                                                                                                                                                                                                                                                                                                                                                                                                                                                                                                                                                                                                                                                                                                                                                                                                                                                                                                                                                                         166\n",
              "Quantitative Evidence                                                                                                                                                                                                                                                                                                                                                                                                                                                                                                                                                                                                                                                                                                                                                                                                                                                                                                                                                                                                                                                          51\n",
              "Action Evidence                                                                                                                                                                                                                                                                                                                                                                                                                                                                                                                                                                                                                                                                                                                                                                                                                                                                                                                                                                                                                                                                48\n",
              "Suggestive Evidence                                                                                                                                                                                                                                                                                                                                                                                                                                                                                                                                                                                                                                                                                                                                                                                                                                                                                                                                                                                                                                                            18\n",
              "Intention                                                                                                                                                                                                                                                                                                                                                                                                                                                                                                                                                                                                                                                                                                                                                                                                                                                                                                                                                                                                                                                                      12\n",
              "'Suggestive Evidence'                                                                                                                                                                                                                                                                                                                                                                                                                                                                                                                                                                                                                                                                                                                                                                                                                                                                                                                                                                                                                                                           4\n",
              "customers and communities. \\n\\n'Suggestive Evidence'                                                                                                                                                                                                                                                                                                                                                                                                                                                                                                                                                                                                                                                                                                                                                                                                                                                                                                                                                                                                                            1\n",
              "'Action Evidence'                                                                                                                                                                                                                                                                                                                                                                                                                                                                                                                                                                                                                                                                                                                                                                                                                                                                                                                                                                                                                                                               1\n",
              "than - traditional in-person education. By partnering with top-tier universities and providing \\nhigh-quality online education programs, 2U is directly contributing to SDG #4 by increasing \\naccess to quality education and promoting lifelong learning opportunities for students \\naround the world. \\n \\nUnited Nations’ Sustainable Development Goal #3:​ Ensure healthy lives and promote well-being \\nfor all at all ages. \\n●\\n2U’s focus on healthcare education aligns with SDG #3 by addressing the need for a \\nwell-trained healthcare workforce and improving healthcare outcomes globally. Through \\npartnerships with leading healthcare institutions, 2U is helping to train future healthcare \\nprofessionals and advance healthcare practices. \\n \\n2U’s business model naturally aligns with the principles of leaving no one behind and a \\nholistic approach to sustainable development. By providing access to quality education and \\nfocusing on healthcare, 2U is contributing to the achievement of multiple Sustainable \\nDevelopment Goals.      1\n",
              "Responsibility Committee.                                                                                                                                                                                                                                                                                                                                                                                                                                                                                                                                                                                                                                                                                                                                                                                                                                                                                                                                                                                                                                                       1\n",
              "other stakeholders. \\n\\nCategory: Suggestive Evidence                                                                                                                                                                                                                                                                                                                                                                                                                                                                                                                                                                                                                                                                                                                                                                                                                                                                                                                                                                                                                           1\n",
              "'Quantitative Evidence'                                                                                                                                                                                                                                                                                                                                                                                                                                                                                                                                                                                                                                                                                                                                                                                                                                                                                                                                                                                                                                                         1\n",
              "to ESG issues received and resolved \\nduring the reporting period. \\nQuantitative Evidence                                                                                                                                                                                                                                                                                                                                                                                                                                                                                                                                                                                                                                                                                                                                                                                                                                                                                                                                                                                      1\n",
              "standards and guidelines?\\nOther                                                                                                                                                                                                                                                                                                                                                                                                                                                                                                                                                                                                                                                                                                                                                                                                                                                                                                                                                                                                                                                1\n",
              "sentence: 'Y' \\n\\nCategory: Other                                                                                                                                                                                                                                                                                                                                                                                                                                                                                                                                                                                                                                                                                                                                                                                                                                                                                                                                                                                                                                               1\n",
              "match any category.                                                                                                                                                                                                                                                                                                                                                                                                                                                                                                                                                                                                                                                                                                                                                                                                                                                                                                                                                                                                                                                             1\n",
              "falls under the category 'Other'.                                                                                                                                                                                                                                                                                                                                                                                                                                                                                                                                                                                                                                                                                                                                                                                                                                                                                                                                                                                                                                               1\n",
              "Name: response, dtype: int64"
            ]
          },
          "metadata": {},
          "execution_count": 42
        }
      ]
    },
    {
      "cell_type": "code",
      "source": [
        "def extract_category_name(category):\n",
        "    category = category.lower()\n",
        "    categories = ['quantitative evidence', 'action evidence', 'suggestive evidence', 'intention','other']\n",
        "    for cat in categories:\n",
        "        if cat in category:\n",
        "            return cat.title()\n",
        "    return ''"
      ],
      "metadata": {
        "id": "-vIB2grWid7G"
      },
      "execution_count": null,
      "outputs": []
    },
    {
      "cell_type": "code",
      "source": [
        "extract_category_name('Category: suggestive evidence')"
      ],
      "metadata": {
        "colab": {
          "base_uri": "https://localhost:8080/",
          "height": 36
        },
        "id": "9iNjxO2aiPCP",
        "outputId": "d2abecc0-388d-4e5f-dc42-2049e7d3064f"
      },
      "execution_count": null,
      "outputs": [
        {
          "output_type": "execute_result",
          "data": {
            "text/plain": [
              "'Suggestive Evidence'"
            ],
            "application/vnd.google.colaboratory.intrinsic+json": {
              "type": "string"
            }
          },
          "metadata": {},
          "execution_count": 45
        }
      ]
    },
    {
      "cell_type": "code",
      "source": [
        "all_responses_df[\"response_0\"] = all_responses_df[\"response\"].apply(extract_category_name)"
      ],
      "metadata": {
        "id": "ghquOarwimRX"
      },
      "execution_count": null,
      "outputs": []
    },
    {
      "cell_type": "code",
      "source": [
        "all_responses_df[\"response_0\"].value_counts()"
      ],
      "metadata": {
        "colab": {
          "base_uri": "https://localhost:8080/"
        },
        "id": "-O5N7QoKjAj-",
        "outputId": "ade63ecc-ee7b-47a9-d160-467faf0aa317"
      },
      "execution_count": null,
      "outputs": [
        {
          "output_type": "execute_result",
          "data": {
            "text/plain": [
              "Other                    169\n",
              "Quantitative Evidence     53\n",
              "Action Evidence           49\n",
              "Suggestive Evidence       24\n",
              "Intention                 12\n",
              "                           3\n",
              "Name: response_0, dtype: int64"
            ]
          },
          "metadata": {},
          "execution_count": 50
        }
      ]
    },
    {
      "cell_type": "code",
      "source": [
        "all_responses_df.to_csv(r\"/content/gdrive/MyDrive/MBA/Data Science Practicum 23/final_project/all_responses_df_openai_5.csv\", index=False, escapechar='\\\\')"
      ],
      "metadata": {
        "id": "mNAzlucRlUjn"
      },
      "execution_count": null,
      "outputs": []
    }
  ]
}